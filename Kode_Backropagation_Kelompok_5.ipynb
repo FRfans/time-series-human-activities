{
  "nbformat": 4,
  "nbformat_minor": 0,
  "metadata": {
    "colab": {
      "provenance": [],
      "gpuType": "T4",
      "include_colab_link": true
    },
    "kernelspec": {
      "name": "python3",
      "display_name": "Python 3"
    },
    "language_info": {
      "name": "python"
    },
    "accelerator": "GPU"
  },
  "cells": [
    {
      "cell_type": "markdown",
      "metadata": {
        "id": "view-in-github",
        "colab_type": "text"
      },
      "source": [
        "<a href=\"https://colab.research.google.com/github/FRfans/time-series-human-activities/blob/main/Kode_Backropagation_Kelompok_5.ipynb\" target=\"_parent\"><img src=\"https://colab.research.google.com/assets/colab-badge.svg\" alt=\"Open In Colab\"/></a>"
      ]
    },
    {
      "cell_type": "markdown",
      "source": [
        "##Import Library"
      ],
      "metadata": {
        "id": "C-im6uNPvjfW"
      }
    },
    {
      "cell_type": "code",
      "execution_count": null,
      "metadata": {
        "id": "rfhxhElKYhAW"
      },
      "outputs": [],
      "source": [
        "import numpy as np\n",
        "import pandas as pd\n",
        "import matplotlib.pyplot as plt\n",
        "from sklearn.model_selection import train_test_split\n",
        "from sklearn.preprocessing import MinMaxScaler, LabelEncoder\n",
        "from sklearn.metrics import confusion_matrix, ConfusionMatrixDisplay"
      ]
    },
    {
      "cell_type": "markdown",
      "source": [
        "##Hyperparameter, Data path, dan Fitur Target"
      ],
      "metadata": {
        "id": "peZHuylDuo7T"
      }
    },
    {
      "cell_type": "code",
      "source": [
        "# Configuration settings\n",
        "DATA_PATH = 'time_series_data_human_activities.csv'\n",
        "ACTIVITIES = ['Walking', 'Jogging', 'Sitting']\n",
        "FEATURES = ['x-axis', 'y-axis', 'z-axis']\n",
        "HIDDEN_SIZES = [128, 64]\n",
        "LEARNING_RATE = 0.001\n",
        "NUM_EPOCHS = 100\n",
        "BATCH_SIZE = 32\n",
        "RANDOM_SEED = 42"
      ],
      "metadata": {
        "id": "5jdS-5lCqh3Z"
      },
      "execution_count": null,
      "outputs": []
    },
    {
      "cell_type": "markdown",
      "source": [
        "##Fungsi Preprocessing data"
      ],
      "metadata": {
        "id": "k-GYTFcVu1h0"
      }
    },
    {
      "cell_type": "code",
      "source": [
        "def load_data():\n",
        "    \"\"\"Load and filter the dataset.\"\"\"\n",
        "    print(\"Loading data from:\", DATA_PATH)\n",
        "    data = pd.read_csv(DATA_PATH)\n",
        "    filtered_data = data[data['activity'].isin(ACTIVITIES)]\n",
        "    print(f\"Loaded {len(filtered_data)} records with activities: {', '.join(ACTIVITIES)}\")\n",
        "    print(\"Sample of loaded data:\\n\", filtered_data.head())\n",
        "    activity_counts = filtered_data['activity'].value_counts()\n",
        "    print(\"\\nActivity counts:\")\n",
        "    print(activity_counts)\n",
        "    return filtered_data\n",
        "\n",
        "def balance_data(data):\n",
        "    \"\"\"Balance classes by sampling each activity to the same number of samples.\"\"\"\n",
        "    min_samples = data['activity'].value_counts().min()\n",
        "    balanced_data = pd.concat([\n",
        "        data[data['activity'] == activity].sample(min_samples, random_state=RANDOM_SEED)\n",
        "        for activity in ACTIVITIES\n",
        "    ])\n",
        "    print(f\"Balanced data to {min_samples} samples per activity.\")\n",
        "    # Display count of balanced data per activity\n",
        "    print(\"\\nBalanced data counts per activity:\")\n",
        "    print(balanced_data['activity'].value_counts())\n",
        "\n",
        "    return balanced_data.reset_index(drop=True)\n",
        "\n",
        "\n",
        "def aggregate_records(df, n=20):\n",
        "    \"\"\"Aggregate every n records with the same activity by calculating the mean for each group.\"\"\"\n",
        "    df = df.reset_index(drop=True)\n",
        "    result = []\n",
        "\n",
        "    for activity in df['activity'].unique():\n",
        "        # Filter data for each activity\n",
        "        activity_df = df[df['activity'] == activity].copy()\n",
        "\n",
        "        # Group every n records and calculate the mean\n",
        "        aggregated = pd.concat([\n",
        "            activity_df.iloc[i:i + n].mean(numeric_only=True).to_frame().T.assign(activity=activity)\n",
        "            for i in range(0, len(activity_df), n)\n",
        "        ], ignore_index=True)\n",
        "\n",
        "        result.append(aggregated)\n",
        "\n",
        "    # Combine final result for all activities\n",
        "    final_result = pd.concat(result, ignore_index=True)\n",
        "\n",
        "    # Display count of aggregated data per activity\n",
        "    print(\"\\nAggregated data counts per activity:\")\n",
        "    print(final_result['activity'].value_counts())\n",
        "    print(f\"Final shape: {final_result.shape}\")\n",
        "\n",
        "    return final_result\n",
        "\n",
        "def prepare_data(normalize=True, aggregation_size=20):\n",
        "    \"\"\"Prepare data for training.\"\"\"\n",
        "    # Load and preprocess data\n",
        "    data = load_data()\n",
        "    balanced_data = balance_data(data)\n",
        "    aggregated_data = aggregate_records(balanced_data, n=aggregation_size)\n",
        "\n",
        "    # Prepare features\n",
        "    X = aggregated_data[FEATURES].values\n",
        "\n",
        "    # Normalize if requested\n",
        "    if normalize:\n",
        "        scaler = MinMaxScaler()\n",
        "        X = scaler.fit_transform(X)\n",
        "        print(\"\\nFeatures normalized. Mean:\", X.mean(axis=0))\n",
        "        print(\"Features std:\", X.std(axis=0))\n",
        "        print(\"Sample of normalized features:\\n\", X[:5])\n",
        "\n",
        "    # Encode labels\n",
        "    y = LabelEncoder().fit_transform(aggregated_data['activity'])\n",
        "    print(f\"Encoded labels into {len(set(y))} classes.\")\n",
        "    print(\"Sample of encoded labels:\\n\", y[:5])\n",
        "\n",
        "    return X, y"
      ],
      "metadata": {
        "id": "7jLupqBtq4jE"
      },
      "execution_count": null,
      "outputs": []
    },
    {
      "cell_type": "markdown",
      "source": [
        "##Inisialisasi layer, bias,dan weight"
      ],
      "metadata": {
        "id": "loVPz7Knu77e"
      }
    },
    {
      "cell_type": "code",
      "source": [
        "def initialize_network(input_size, hidden_sizes, num_classes):\n",
        "    \"\"\"Initialize network layers and biases using He initialization.\"\"\"\n",
        "    all_sizes = [input_size] + hidden_sizes + [num_classes]\n",
        "    layers = [\n",
        "\n",
        "        np.random.randn(all_sizes[i], all_sizes[i+1]) * np.sqrt(2./all_sizes[i])\n",
        "        for i in range(len(all_sizes) - 1)\n",
        "    ]\n",
        "    biases = [np.zeros((1, size)) for size in all_sizes[1:]]\n",
        "    return layers, biases"
      ],
      "metadata": {
        "id": "VHm816dGq7cN"
      },
      "execution_count": null,
      "outputs": []
    },
    {
      "cell_type": "markdown",
      "source": [
        "## Fungsi aktivasi beserta turunannya dan Fungsi loss"
      ],
      "metadata": {
        "id": "bQk0XII0vHm9"
      }
    },
    {
      "cell_type": "code",
      "source": [
        "def relu(Z):\n",
        "    \"\"\"ReLU activation function.\"\"\"\n",
        "    return np.maximum(0, Z)\n",
        "\n",
        "def relu_derivative(Z):\n",
        "    \"\"\"Derivative of ReLU for backpropagation.\"\"\"\n",
        "    return Z > 0\n",
        "\n",
        "def softmax(Z):\n",
        "    \"\"\"Softmax activation for output layer to get class probabilities.\"\"\"\n",
        "    exp_Z = np.exp(Z - np.max(Z, axis=1, keepdims=True))  # Stability fix by subtracting max(Z)\n",
        "    return exp_Z / exp_Z.sum(axis=1, keepdims=True)\n",
        "\n",
        "def cross_entropy_loss(predictions, labels):\n",
        "    \"\"\"Calculate cross-entropy loss for given predictions and true labels.\"\"\"\n",
        "    m = labels.shape[0]\n",
        "    log_likelihood = -np.log(predictions[range(m), labels] + 1e-8)\n",
        "    loss = np.sum(log_likelihood) / m\n",
        "    return loss"
      ],
      "metadata": {
        "id": "dUjCQaxPq8Y9"
      },
      "execution_count": null,
      "outputs": []
    },
    {
      "cell_type": "markdown",
      "source": [
        "## Fungsi feedforward"
      ],
      "metadata": {
        "id": "3jG1RJtuvN5D"
      }
    },
    {
      "cell_type": "code",
      "source": [
        "def forward(X, layers, biases):\n",
        "    \"\"\"Forward pass through the network.\"\"\"\n",
        "    activations = [X]\n",
        "\n",
        "    # Hidden layers with ReLU activation\n",
        "    for i in range(len(layers) - 1):\n",
        "        Z = np.dot(activations[-1], layers[i]) + biases[i]\n",
        "        A = relu(Z)\n",
        "        activations.append(A)\n",
        "\n",
        "    # Output layer with Softmax activation\n",
        "    Z_final = np.dot(activations[-1], layers[-1]) + biases[-1]\n",
        "    A_final = softmax(Z_final)\n",
        "    activations.append(A_final)\n",
        "\n",
        "    return activations"
      ],
      "metadata": {
        "id": "FNisbc9Eq9XG"
      },
      "execution_count": null,
      "outputs": []
    },
    {
      "cell_type": "markdown",
      "source": [
        "##Fungsi Backpropagation"
      ],
      "metadata": {
        "id": "rBFVfm6cvQ1Q"
      }
    },
    {
      "cell_type": "code",
      "source": [
        "def backward(X, Y, activations, layers, biases, learning_rate):\n",
        "    \"\"\"Backward propagation and gradient updates for MLP.\"\"\"\n",
        "    m = X.shape[0]\n",
        "    num_layers = len(layers)\n",
        "    dW = [np.zeros_like(layer) for layer in layers]\n",
        "    db = [np.zeros_like(bias) for bias in biases]\n",
        "\n",
        "    # Gradient of cross-entropy loss with softmax\n",
        "    dZ = activations[-1].copy()\n",
        "    dZ[range(m), Y] -= 1  # Adjust to compute the gradient w.r.t logits\n",
        "    dZ /= m\n",
        "\n",
        "    # Backpropagation for each layer\n",
        "    for l in reversed(range(num_layers)):\n",
        "        # Compute weight and bias gradients\n",
        "        dW[l] = np.dot(activations[l].T, dZ)\n",
        "        db[l] = np.sum(dZ, axis=0, keepdims=True)\n",
        "\n",
        "        # Compute gradient for the previous layer (if not input layer)\n",
        "        if l > 0:\n",
        "            dA = np.dot(dZ, layers[l].T)\n",
        "            dZ = dA * relu_derivative(np.dot(activations[l-1], layers[l-1]) + biases[l-1])\n",
        "\n",
        "    # Update parameters\n",
        "    for l in range(num_layers):\n",
        "        layers[l] -= learning_rate * dW[l]\n",
        "        biases[l] -= learning_rate * db[l]\n",
        "\n",
        "    return layers, biases"
      ],
      "metadata": {
        "id": "_nu6j-O4q-XW"
      },
      "execution_count": null,
      "outputs": []
    },
    {
      "cell_type": "markdown",
      "source": [
        "##Training Model"
      ],
      "metadata": {
        "id": "7PdLVxxbvUEV"
      }
    },
    {
      "cell_type": "code",
      "source": [
        "def train_model_with_validation(X_train, y_train, X_val, y_val, input_size, hidden_sizes, num_classes, learning_rate, num_epochs, batch_size):\n",
        "    \"\"\"Train MLP model and track both training and validation loss.\"\"\"\n",
        "    layers, biases = initialize_network(input_size, hidden_sizes, num_classes)\n",
        "    n_train_samples = X_train.shape[0]\n",
        "    n_batches = n_train_samples // batch_size\n",
        "    train_losses = []\n",
        "    val_losses = []\n",
        "\n",
        "    for epoch in range(num_epochs):\n",
        "        epoch_train_loss = 0\n",
        "        indices = np.random.permutation(n_train_samples)\n",
        "        X_shuffled, y_shuffled = X_train[indices], y_train[indices]\n",
        "\n",
        "        for i in range(n_batches):\n",
        "            # Get the batch data\n",
        "            start_idx, end_idx = i * batch_size, (i + 1) * batch_size\n",
        "            X_batch, y_batch = X_shuffled[start_idx:end_idx], y_shuffled[start_idx:end_idx]\n",
        "\n",
        "            # Forward pass and compute batch loss\n",
        "            activations = forward(X_batch, layers, biases)\n",
        "            batch_loss = cross_entropy_loss(activations[-1], y_batch)\n",
        "            epoch_train_loss += batch_loss\n",
        "\n",
        "            # Backward pass and parameter update\n",
        "            layers, biases = backward(X_batch, y_batch, activations, layers, biases, learning_rate)\n",
        "\n",
        "        # Calculate average training loss for the epoch\n",
        "        avg_train_loss = epoch_train_loss / n_batches\n",
        "        train_losses.append(avg_train_loss)\n",
        "\n",
        "        # Calculate validation loss at the end of each epoch\n",
        "        val_activations = forward(X_val, layers, biases)\n",
        "        val_loss = cross_entropy_loss(val_activations[-1], y_val)\n",
        "        val_losses.append(val_loss)\n",
        "\n",
        "        # Print progress every 10 epochs\n",
        "        if (epoch + 1) % 10 == 0:\n",
        "            print(f'Epoch {epoch + 1}, Training Loss: {avg_train_loss:.4f}, Validation Loss: {val_loss:.4f}')\n",
        "\n",
        "    return layers, biases, train_losses, val_losses"
      ],
      "metadata": {
        "id": "u87parnXq_U4"
      },
      "execution_count": null,
      "outputs": []
    },
    {
      "cell_type": "markdown",
      "source": [
        "## Test Model"
      ],
      "metadata": {
        "id": "-slDrlGkvXIQ"
      }
    },
    {
      "cell_type": "code",
      "source": [
        "def evaluate(X_test, y_test, layers, biases):\n",
        "    \"\"\"Evaluate model accuracy.\"\"\"\n",
        "    activations = forward(X_test, layers, biases)\n",
        "    predictions = np.argmax(activations[-1], axis=1)\n",
        "    accuracy = np.mean(predictions == y_test) * 100\n",
        "    return accuracy, predictions\n",
        "\n",
        "def plot_loss(losses):\n",
        "    \"\"\"Plot the training loss over epochs.\"\"\"\n",
        "    plt.figure(figsize=(10, 6))\n",
        "    plt.plot(losses)\n",
        "    plt.title('Training Loss Over Time')\n",
        "    plt.xlabel('Epoch')\n",
        "    plt.ylabel('Loss')\n",
        "    plt.grid(True)\n",
        "    plt.show()"
      ],
      "metadata": {
        "id": "eUPaQj0rrDfp"
      },
      "execution_count": null,
      "outputs": []
    },
    {
      "cell_type": "markdown",
      "source": [
        "##Main"
      ],
      "metadata": {
        "id": "qBGa7CLWvbDx"
      }
    },
    {
      "cell_type": "code",
      "source": [
        "# Load and prepare data\n",
        "X, y = prepare_data()\n",
        "\n",
        "# Split data into training and temporary sets (70% train, 30% temporary)\n",
        "X_train, X_temp, y_train, y_temp = train_test_split(X, y, test_size=0.3, random_state=42)\n",
        "\n",
        "# Split the temporary set into validation and test sets (50% validation, 50% test of the 30%)\n",
        "X_val, X_test, y_val, y_test = train_test_split(X_temp, y_temp, test_size=0.5, random_state=42)\n",
        "\n",
        "print(f\"Jumlah data Train: {len(y_train)}\")\n",
        "print(f\"Jumlah data Test: {len(y_test)}\")\n",
        "\n",
        "# Train the model with validation tracking\n",
        "layers, biases, train_losses, val_losses = train_model_with_validation(\n",
        "    X_train, y_train,\n",
        "    X_val, y_val,\n",
        "    input_size=X.shape[1],\n",
        "    hidden_sizes=HIDDEN_SIZES,\n",
        "    num_classes=len(np.unique(y)),\n",
        "    learning_rate=LEARNING_RATE,\n",
        "    num_epochs=NUM_EPOCHS,\n",
        "    batch_size=BATCH_SIZE\n",
        ")\n",
        "\n",
        "# Evaluate the model on the test set\n",
        "accuracy, predictions = evaluate(X_test, y_test, layers, biases)\n",
        "print(f'\\nFinal Test Accuracy: {accuracy:.2f}%')\n",
        "\n",
        "# Plot training and validation loss\n",
        "plt.figure(figsize=(10, 6))\n",
        "plt.plot(train_losses, label='Training Loss')\n",
        "plt.plot(val_losses, label='Validation Loss')\n",
        "plt.title('Training and Validation Loss Over Time')\n",
        "plt.xlabel('Epoch')\n",
        "plt.ylabel('Loss')\n",
        "plt.legend()\n",
        "plt.grid(True)\n",
        "plt.show()\n",
        "\n"
      ],
      "metadata": {
        "id": "i0W8nZVGrFO8",
        "outputId": "28121f6b-9dcc-4ea9-d5cd-adb9a1db2392",
        "colab": {
          "base_uri": "https://localhost:8080/",
          "height": 1000
        }
      },
      "execution_count": null,
      "outputs": [
        {
          "output_type": "stream",
          "name": "stdout",
          "text": [
            "Loading data from: time_series_data_human_activities.csv\n",
            "Loaded 802440 records with activities: Walking, Jogging, Sitting\n",
            "Sample of loaded data:\n",
            "    user activity      timestamp  x-axis  y-axis  z-axis\n",
            "0     1  Walking  4991922345000    0.69   10.80   -2.03\n",
            "1     1  Walking  4991972333000    6.85    7.44   -0.50\n",
            "2     1  Walking  4992022351000    0.93    5.63   -0.50\n",
            "3     1  Walking  4992072339000   -2.11    5.01   -0.69\n",
            "4     1  Walking  4992122358000   -4.59    4.29   -1.95\n",
            "\n",
            "Activity counts:\n",
            "activity\n",
            "Walking    417901\n",
            "Jogging    324600\n",
            "Sitting     59939\n",
            "Name: count, dtype: int64\n",
            "Balanced data to 59939 samples per activity.\n",
            "\n",
            "Balanced data counts per activity:\n",
            "activity\n",
            "Walking    59939\n",
            "Jogging    59939\n",
            "Sitting    59939\n",
            "Name: count, dtype: int64\n",
            "\n",
            "Aggregated data counts per activity:\n",
            "activity\n",
            "Walking    2997\n",
            "Jogging    2997\n",
            "Sitting    2997\n",
            "Name: count, dtype: int64\n",
            "Final shape: (8991, 6)\n",
            "\n",
            "Features normalized. Mean: [0.52270158 0.51605269 0.54245499]\n",
            "Features std: [0.12774659 0.18748224 0.23060213]\n",
            "Sample of normalized features:\n",
            " [[0.63463883 0.50287125 0.33358167]\n",
            " [0.46724031 0.65940671 0.37056869]\n",
            " [0.36931535 0.81275849 0.3771632 ]\n",
            " [0.49769881 0.68541165 0.38020823]\n",
            " [0.43745084 0.61185992 0.34494741]]\n",
            "Encoded labels into 3 classes.\n",
            "Sample of encoded labels:\n",
            " [2 2 2 2 2]\n",
            "Jumlah data Train: 6293\n",
            "Jumlah data Test: 1349\n",
            "Epoch 10, Training Loss: 0.4641, Validation Loss: 0.4646\n",
            "Epoch 20, Training Loss: 0.3942, Validation Loss: 0.4000\n",
            "Epoch 30, Training Loss: 0.3584, Validation Loss: 0.3638\n",
            "Epoch 40, Training Loss: 0.3334, Validation Loss: 0.3395\n",
            "Epoch 50, Training Loss: 0.3139, Validation Loss: 0.3182\n",
            "Epoch 60, Training Loss: 0.2991, Validation Loss: 0.3029\n",
            "Epoch 70, Training Loss: 0.2861, Validation Loss: 0.2888\n",
            "Epoch 80, Training Loss: 0.2752, Validation Loss: 0.2765\n",
            "Epoch 90, Training Loss: 0.2651, Validation Loss: 0.2656\n",
            "Epoch 100, Training Loss: 0.2552, Validation Loss: 0.2553\n",
            "\n",
            "Final Test Accuracy: 90.81%\n"
          ]
        },
        {
          "output_type": "display_data",
          "data": {
            "text/plain": [
              "<Figure size 1000x600 with 1 Axes>"
            ],
            "image/png": "[encoded data removed]"
          },
          "metadata": {}
        }
      ]
    },
    {
      "cell_type": "code",
      "source": [
        "# Hitung jumlah prediksi benar dan salah\n",
        "correct_predictions = np.sum(predictions == y_test)\n",
        "incorrect_predictions = len(y_test) - correct_predictions\n",
        "\n",
        "print(f\"Jumlah prediksi benar: {correct_predictions}\")\n",
        "print(f\"Jumlah prediksi salah: {incorrect_predictions}\")\n",
        "labels = ['Benar', 'Salah']\n",
        "values = [correct_predictions, incorrect_predictions]\n",
        "colors = ['#4CAF50', '#F44336']\n",
        "\n",
        "plt.figure(figsize=(8, 6))\n",
        "plt.bar(labels, values, color=colors)\n",
        "plt.title('Distribusi Prediksi Benar dan Salah')\n",
        "plt.xlabel('Kategori')\n",
        "plt.ylabel('Jumlah')\n",
        "plt.ylim(0, max(values) + 10)\n",
        "plt.grid(axis='y', linestyle='--', alpha=0.7)\n",
        "plt.show()z"
      ],
      "metadata": {
        "colab": {
          "base_uri": "https://localhost:8080/",
          "height": 599
        },
        "id": "Wfr_f3wXz4zJ",
        "outputId": "18d7ecd5-b55a-4095-c60b-ecfe6c11b53c"
      },
      "execution_count": null,
      "outputs": [
        {
          "output_type": "stream",
          "name": "stdout",
          "text": [
            "Jumlah prediksi benar: 1225\n",
            "Jumlah prediksi salah: 124\n"
          ]
        },
        {
          "output_type": "display_data",
          "data": {
            "text/plain": [
              "<Figure size 800x600 with 1 Axes>"
            ],
            "image/png": "[encoded data removed]"
          },
          "metadata": {}
        }
      ]
    },
    {
      "cell_type": "markdown",
      "source": [
        "##Evaluasi model menggunakan confussion matrix"
      ],
      "metadata": {
        "id": "uTuSyw9RvePO"
      }
    },
    {
      "cell_type": "code",
      "source": [
        "cm = confusion_matrix(y_test, predictions)\n",
        "\n",
        "# Plot confusion matrix\n",
        "plt.figure(figsize=(8, 6))\n",
        "disp = ConfusionMatrixDisplay(confusion_matrix=cm, display_labels=np.unique(y))\n",
        "disp.plot(cmap='Blues', values_format='d')\n",
        "plt.title('Confusion Matrix for Test Set')\n",
        "plt.xlabel('Predicted Label')\n",
        "plt.ylabel('True Label')\n",
        "plt.grid(False)\n",
        "plt.show()"
      ],
      "metadata": {
        "colab": {
          "base_uri": "https://localhost:8080/",
          "height": 489
        },
        "id": "4ZUIPz3OkMLM",
        "outputId": "5d6b1fc6-21b3-4d79-dfdb-06b204e27550"
      },
      "execution_count": null,
      "outputs": [
        {
          "output_type": "display_data",
          "data": {
            "text/plain": [
              "<Figure size 800x600 with 0 Axes>"
            ]
          },
          "metadata": {}
        },
        {
          "output_type": "display_data",
          "data": {
            "text/plain": [
              "<Figure size 640x480 with 2 Axes>"
            ],
            "image/png": "[encoded data removed]"
          },
          "metadata": {}
        }
      ]
    }
  ]
}